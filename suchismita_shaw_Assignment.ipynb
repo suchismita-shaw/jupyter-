{
 "cells": [
  {
   "cell_type": "code",
   "execution_count": 1,
   "id": "c676837f-3f55-4668-b979-ff44b99eab89",
   "metadata": {},
   "outputs": [],
   "source": [
    "import pandas as pd"
   ]
  },
  {
   "cell_type": "code",
   "execution_count": 2,
   "id": "8259ddb0-3f13-4b01-a2de-4293c62a6332",
   "metadata": {},
   "outputs": [],
   "source": [
    "df= pd.read_csv(r\"C:/Users/User/Downloads/patient_data.csv.csv\") "
   ]
  },
  {
   "cell_type": "code",
   "execution_count": 3,
   "id": "ae33da86-d61d-4b91-b986-e84530cfc507",
   "metadata": {},
   "outputs": [
    {
     "data": {
      "text/html": [
       "<div>\n",
       "<style scoped>\n",
       "    .dataframe tbody tr th:only-of-type {\n",
       "        vertical-align: middle;\n",
       "    }\n",
       "\n",
       "    .dataframe tbody tr th {\n",
       "        vertical-align: top;\n",
       "    }\n",
       "\n",
       "    .dataframe thead th {\n",
       "        text-align: right;\n",
       "    }\n",
       "</style>\n",
       "<table border=\"1\" class=\"dataframe\">\n",
       "  <thead>\n",
       "    <tr style=\"text-align: right;\">\n",
       "      <th></th>\n",
       "      <th>Patient Name</th>\n",
       "      <th>Race</th>\n",
       "      <th>Gender</th>\n",
       "      <th>Age</th>\n",
       "      <th>Weight (lb)</th>\n",
       "      <th>Height (inches)</th>\n",
       "      <th>Blood Pressure</th>\n",
       "    </tr>\n",
       "  </thead>\n",
       "  <tbody>\n",
       "    <tr>\n",
       "      <th>0</th>\n",
       "      <td>A</td>\n",
       "      <td>White</td>\n",
       "      <td>M</td>\n",
       "      <td>36</td>\n",
       "      <td>153</td>\n",
       "      <td>70</td>\n",
       "      <td>120</td>\n",
       "    </tr>\n",
       "    <tr>\n",
       "      <th>1</th>\n",
       "      <td>B</td>\n",
       "      <td>Black</td>\n",
       "      <td>F</td>\n",
       "      <td>32</td>\n",
       "      <td>121</td>\n",
       "      <td>65</td>\n",
       "      <td>120</td>\n",
       "    </tr>\n",
       "    <tr>\n",
       "      <th>2</th>\n",
       "      <td>C</td>\n",
       "      <td>White</td>\n",
       "      <td>F</td>\n",
       "      <td>55</td>\n",
       "      <td>117</td>\n",
       "      <td>63</td>\n",
       "      <td>140</td>\n",
       "    </tr>\n",
       "    <tr>\n",
       "      <th>3</th>\n",
       "      <td>D</td>\n",
       "      <td>Black</td>\n",
       "      <td>F</td>\n",
       "      <td>23</td>\n",
       "      <td>115</td>\n",
       "      <td>69</td>\n",
       "      <td>135</td>\n",
       "    </tr>\n",
       "    <tr>\n",
       "      <th>4</th>\n",
       "      <td>E</td>\n",
       "      <td>White</td>\n",
       "      <td>M</td>\n",
       "      <td>40</td>\n",
       "      <td>163</td>\n",
       "      <td>73</td>\n",
       "      <td>150</td>\n",
       "    </tr>\n",
       "    <tr>\n",
       "      <th>5</th>\n",
       "      <td>F</td>\n",
       "      <td>Black</td>\n",
       "      <td>M</td>\n",
       "      <td>49</td>\n",
       "      <td>199</td>\n",
       "      <td>72</td>\n",
       "      <td>130</td>\n",
       "    </tr>\n",
       "    <tr>\n",
       "      <th>6</th>\n",
       "      <td>G</td>\n",
       "      <td>White</td>\n",
       "      <td>F</td>\n",
       "      <td>35</td>\n",
       "      <td>120</td>\n",
       "      <td>63</td>\n",
       "      <td>140</td>\n",
       "    </tr>\n",
       "    <tr>\n",
       "      <th>7</th>\n",
       "      <td>H</td>\n",
       "      <td>Black</td>\n",
       "      <td>M</td>\n",
       "      <td>40</td>\n",
       "      <td>160</td>\n",
       "      <td>70</td>\n",
       "      <td>155</td>\n",
       "    </tr>\n",
       "    <tr>\n",
       "      <th>8</th>\n",
       "      <td>I</td>\n",
       "      <td>Black</td>\n",
       "      <td>M</td>\n",
       "      <td>40</td>\n",
       "      <td>150</td>\n",
       "      <td>72</td>\n",
       "      <td>110</td>\n",
       "    </tr>\n",
       "    <tr>\n",
       "      <th>9</th>\n",
       "      <td>J</td>\n",
       "      <td>White</td>\n",
       "      <td>F</td>\n",
       "      <td>50</td>\n",
       "      <td>155</td>\n",
       "      <td>68</td>\n",
       "      <td>140</td>\n",
       "    </tr>\n",
       "  </tbody>\n",
       "</table>\n",
       "</div>"
      ],
      "text/plain": [
       "  Patient Name   Race Gender  Age  Weight (lb)  Height (inches)  \\\n",
       "0            A  White      M   36          153               70   \n",
       "1            B  Black      F   32          121               65   \n",
       "2            C  White      F   55          117               63   \n",
       "3            D  Black      F   23          115               69   \n",
       "4            E  White      M   40          163               73   \n",
       "5            F  Black      M   49          199               72   \n",
       "6            G  White      F   35          120               63   \n",
       "7            H  Black      M   40          160               70   \n",
       "8            I  Black      M   40          150               72   \n",
       "9            J  White      F   50          155               68   \n",
       "\n",
       "   Blood Pressure  \n",
       "0             120  \n",
       "1             120  \n",
       "2             140  \n",
       "3             135  \n",
       "4             150  \n",
       "5             130  \n",
       "6             140  \n",
       "7             155  \n",
       "8             110  \n",
       "9             140  "
      ]
     },
     "execution_count": 3,
     "metadata": {},
     "output_type": "execute_result"
    }
   ],
   "source": [
    "df"
   ]
  },
  {
   "cell_type": "code",
   "execution_count": 4,
   "id": "878b6f6f-51f7-481f-97b5-b6e8ae451e32",
   "metadata": {},
   "outputs": [
    {
     "name": "stdout",
     "output_type": "stream",
     "text": [
      "<class 'pandas.core.frame.DataFrame'>\n",
      "RangeIndex: 10 entries, 0 to 9\n",
      "Data columns (total 7 columns):\n",
      " #   Column           Non-Null Count  Dtype \n",
      "---  ------           --------------  ----- \n",
      " 0   Patient Name     10 non-null     object\n",
      " 1   Race             10 non-null     object\n",
      " 2   Gender           10 non-null     object\n",
      " 3   Age              10 non-null     int64 \n",
      " 4   Weight (lb)      10 non-null     int64 \n",
      " 5   Height (inches)  10 non-null     int64 \n",
      " 6   Blood Pressure   10 non-null     int64 \n",
      "dtypes: int64(4), object(3)\n",
      "memory usage: 692.0+ bytes\n"
     ]
    }
   ],
   "source": [
    "df.info()"
   ]
  },
  {
   "cell_type": "code",
   "execution_count": 5,
   "id": "1b7ffd00-384b-4ff7-be95-c93981e45cc4",
   "metadata": {},
   "outputs": [
    {
     "name": "stdout",
     "output_type": "stream",
     "text": [
      "<class 'pandas.core.frame.DataFrame'>\n",
      "RangeIndex: 10 entries, 0 to 9\n",
      "Data columns (total 7 columns):\n",
      " #   Column           Non-Null Count  Dtype \n",
      "---  ------           --------------  ----- \n",
      " 0   Patient Name     10 non-null     object\n",
      " 1   Race             10 non-null     object\n",
      " 2   Gender           10 non-null     object\n",
      " 3   Age              10 non-null     int64 \n",
      " 4   Weight (lb)      10 non-null     int64 \n",
      " 5   Height (inches)  10 non-null     int64 \n",
      " 6   Blood Pressure   10 non-null     int64 \n",
      "dtypes: int64(4), object(3)\n",
      "memory usage: 692.0+ bytes\n"
     ]
    }
   ],
   "source": [
    "df.info(5)"
   ]
  },
  {
   "cell_type": "code",
   "execution_count": 7,
   "id": "ad53cb8f-486d-4280-8318-a2183d4b48af",
   "metadata": {},
   "outputs": [
    {
     "data": {
      "text/html": [
       "<div>\n",
       "<style scoped>\n",
       "    .dataframe tbody tr th:only-of-type {\n",
       "        vertical-align: middle;\n",
       "    }\n",
       "\n",
       "    .dataframe tbody tr th {\n",
       "        vertical-align: top;\n",
       "    }\n",
       "\n",
       "    .dataframe thead th {\n",
       "        text-align: right;\n",
       "    }\n",
       "</style>\n",
       "<table border=\"1\" class=\"dataframe\">\n",
       "  <thead>\n",
       "    <tr style=\"text-align: right;\">\n",
       "      <th></th>\n",
       "      <th>Patient Name</th>\n",
       "      <th>Race</th>\n",
       "      <th>Gender</th>\n",
       "      <th>Age</th>\n",
       "      <th>Weight (lb)</th>\n",
       "      <th>Height (inches)</th>\n",
       "      <th>Blood Pressure</th>\n",
       "    </tr>\n",
       "  </thead>\n",
       "  <tbody>\n",
       "    <tr>\n",
       "      <th>0</th>\n",
       "      <td>A</td>\n",
       "      <td>White</td>\n",
       "      <td>M</td>\n",
       "      <td>36</td>\n",
       "      <td>153</td>\n",
       "      <td>70</td>\n",
       "      <td>120</td>\n",
       "    </tr>\n",
       "    <tr>\n",
       "      <th>1</th>\n",
       "      <td>B</td>\n",
       "      <td>Black</td>\n",
       "      <td>F</td>\n",
       "      <td>32</td>\n",
       "      <td>121</td>\n",
       "      <td>65</td>\n",
       "      <td>120</td>\n",
       "    </tr>\n",
       "    <tr>\n",
       "      <th>2</th>\n",
       "      <td>C</td>\n",
       "      <td>White</td>\n",
       "      <td>F</td>\n",
       "      <td>55</td>\n",
       "      <td>117</td>\n",
       "      <td>63</td>\n",
       "      <td>140</td>\n",
       "    </tr>\n",
       "    <tr>\n",
       "      <th>3</th>\n",
       "      <td>D</td>\n",
       "      <td>Black</td>\n",
       "      <td>F</td>\n",
       "      <td>23</td>\n",
       "      <td>115</td>\n",
       "      <td>69</td>\n",
       "      <td>135</td>\n",
       "    </tr>\n",
       "    <tr>\n",
       "      <th>4</th>\n",
       "      <td>E</td>\n",
       "      <td>White</td>\n",
       "      <td>M</td>\n",
       "      <td>40</td>\n",
       "      <td>163</td>\n",
       "      <td>73</td>\n",
       "      <td>150</td>\n",
       "    </tr>\n",
       "  </tbody>\n",
       "</table>\n",
       "</div>"
      ],
      "text/plain": [
       "  Patient Name   Race Gender  Age  Weight (lb)  Height (inches)  \\\n",
       "0            A  White      M   36          153               70   \n",
       "1            B  Black      F   32          121               65   \n",
       "2            C  White      F   55          117               63   \n",
       "3            D  Black      F   23          115               69   \n",
       "4            E  White      M   40          163               73   \n",
       "\n",
       "   Blood Pressure  \n",
       "0             120  \n",
       "1             120  \n",
       "2             140  \n",
       "3             135  \n",
       "4             150  "
      ]
     },
     "execution_count": 7,
     "metadata": {},
     "output_type": "execute_result"
    }
   ],
   "source": [
    "df.head()"
   ]
  },
  {
   "cell_type": "code",
   "execution_count": 8,
   "id": "b245d781-89d2-49e9-bcad-82c0c9c72cd5",
   "metadata": {},
   "outputs": [
    {
     "data": {
      "text/html": [
       "<div>\n",
       "<style scoped>\n",
       "    .dataframe tbody tr th:only-of-type {\n",
       "        vertical-align: middle;\n",
       "    }\n",
       "\n",
       "    .dataframe tbody tr th {\n",
       "        vertical-align: top;\n",
       "    }\n",
       "\n",
       "    .dataframe thead th {\n",
       "        text-align: right;\n",
       "    }\n",
       "</style>\n",
       "<table border=\"1\" class=\"dataframe\">\n",
       "  <thead>\n",
       "    <tr style=\"text-align: right;\">\n",
       "      <th></th>\n",
       "      <th>Patient Name</th>\n",
       "      <th>Race</th>\n",
       "      <th>Gender</th>\n",
       "      <th>Age</th>\n",
       "      <th>Weight (lb)</th>\n",
       "      <th>Height (inches)</th>\n",
       "      <th>Blood Pressure</th>\n",
       "    </tr>\n",
       "  </thead>\n",
       "  <tbody>\n",
       "    <tr>\n",
       "      <th>0</th>\n",
       "      <td>A</td>\n",
       "      <td>White</td>\n",
       "      <td>M</td>\n",
       "      <td>36</td>\n",
       "      <td>153</td>\n",
       "      <td>70</td>\n",
       "      <td>120</td>\n",
       "    </tr>\n",
       "    <tr>\n",
       "      <th>1</th>\n",
       "      <td>B</td>\n",
       "      <td>Black</td>\n",
       "      <td>F</td>\n",
       "      <td>32</td>\n",
       "      <td>121</td>\n",
       "      <td>65</td>\n",
       "      <td>120</td>\n",
       "    </tr>\n",
       "    <tr>\n",
       "      <th>2</th>\n",
       "      <td>C</td>\n",
       "      <td>White</td>\n",
       "      <td>F</td>\n",
       "      <td>55</td>\n",
       "      <td>117</td>\n",
       "      <td>63</td>\n",
       "      <td>140</td>\n",
       "    </tr>\n",
       "    <tr>\n",
       "      <th>3</th>\n",
       "      <td>D</td>\n",
       "      <td>Black</td>\n",
       "      <td>F</td>\n",
       "      <td>23</td>\n",
       "      <td>115</td>\n",
       "      <td>69</td>\n",
       "      <td>135</td>\n",
       "    </tr>\n",
       "    <tr>\n",
       "      <th>4</th>\n",
       "      <td>E</td>\n",
       "      <td>White</td>\n",
       "      <td>M</td>\n",
       "      <td>40</td>\n",
       "      <td>163</td>\n",
       "      <td>73</td>\n",
       "      <td>150</td>\n",
       "    </tr>\n",
       "  </tbody>\n",
       "</table>\n",
       "</div>"
      ],
      "text/plain": [
       "  Patient Name   Race Gender  Age  Weight (lb)  Height (inches)  \\\n",
       "0            A  White      M   36          153               70   \n",
       "1            B  Black      F   32          121               65   \n",
       "2            C  White      F   55          117               63   \n",
       "3            D  Black      F   23          115               69   \n",
       "4            E  White      M   40          163               73   \n",
       "\n",
       "   Blood Pressure  \n",
       "0             120  \n",
       "1             120  \n",
       "2             140  \n",
       "3             135  \n",
       "4             150  "
      ]
     },
     "execution_count": 8,
     "metadata": {},
     "output_type": "execute_result"
    }
   ],
   "source": [
    "df.columns = ['Patient Name', 'Race', 'Gender', 'Age', 'Weight (lb)', 'Height (inches)', 'Blood Pressure']\n",
    "df.head()"
   ]
  },
  {
   "cell_type": "code",
   "execution_count": 9,
   "id": "d6355a68-fb60-4a29-9a12-8c188e90ad6c",
   "metadata": {},
   "outputs": [
    {
     "data": {
      "text/plain": [
       "Patient Name       0\n",
       "Race               0\n",
       "Gender             0\n",
       "Age                0\n",
       "Weight (lb)        0\n",
       "Height (inches)    0\n",
       "Blood Pressure     0\n",
       "dtype: int64"
      ]
     },
     "execution_count": 9,
     "metadata": {},
     "output_type": "execute_result"
    }
   ],
   "source": [
    "# Check for missing values in each column\n",
    "missing_values = df.isnull().sum()\n",
    "missing_values"
   ]
  },
  {
   "cell_type": "code",
   "execution_count": 10,
   "id": "c9e688c2-7c68-45e4-ac08-dc392c4d97f4",
   "metadata": {},
   "outputs": [
    {
     "name": "stdout",
     "output_type": "stream",
     "text": [
      "Duplicates removed: 0\n"
     ]
    }
   ],
   "source": [
    "df_cleaned = df.drop_duplicates()\n",
    "print(f'Duplicates removed: {df.shape[0] - df_cleaned.shape[0]}')"
   ]
  },
  {
   "cell_type": "code",
   "execution_count": 11,
   "id": "7175fe9d-0a15-458d-8cc7-9890049c18f0",
   "metadata": {},
   "outputs": [
    {
     "data": {
      "text/html": [
       "<div>\n",
       "<style scoped>\n",
       "    .dataframe tbody tr th:only-of-type {\n",
       "        vertical-align: middle;\n",
       "    }\n",
       "\n",
       "    .dataframe tbody tr th {\n",
       "        vertical-align: top;\n",
       "    }\n",
       "\n",
       "    .dataframe thead th {\n",
       "        text-align: right;\n",
       "    }\n",
       "</style>\n",
       "<table border=\"1\" class=\"dataframe\">\n",
       "  <thead>\n",
       "    <tr style=\"text-align: right;\">\n",
       "      <th></th>\n",
       "      <th>Patient Name</th>\n",
       "      <th>Race</th>\n",
       "      <th>Gender</th>\n",
       "      <th>Age</th>\n",
       "      <th>Weight (lb)</th>\n",
       "      <th>Height (inches)</th>\n",
       "      <th>Blood Pressure</th>\n",
       "    </tr>\n",
       "  </thead>\n",
       "  <tbody>\n",
       "    <tr>\n",
       "      <th>0</th>\n",
       "      <td>A</td>\n",
       "      <td>White</td>\n",
       "      <td>M</td>\n",
       "      <td>36</td>\n",
       "      <td>153</td>\n",
       "      <td>70</td>\n",
       "      <td>120</td>\n",
       "    </tr>\n",
       "    <tr>\n",
       "      <th>1</th>\n",
       "      <td>B</td>\n",
       "      <td>Black</td>\n",
       "      <td>F</td>\n",
       "      <td>32</td>\n",
       "      <td>121</td>\n",
       "      <td>65</td>\n",
       "      <td>120</td>\n",
       "    </tr>\n",
       "    <tr>\n",
       "      <th>2</th>\n",
       "      <td>C</td>\n",
       "      <td>White</td>\n",
       "      <td>F</td>\n",
       "      <td>55</td>\n",
       "      <td>117</td>\n",
       "      <td>63</td>\n",
       "      <td>140</td>\n",
       "    </tr>\n",
       "    <tr>\n",
       "      <th>3</th>\n",
       "      <td>D</td>\n",
       "      <td>Black</td>\n",
       "      <td>F</td>\n",
       "      <td>23</td>\n",
       "      <td>115</td>\n",
       "      <td>69</td>\n",
       "      <td>135</td>\n",
       "    </tr>\n",
       "    <tr>\n",
       "      <th>4</th>\n",
       "      <td>E</td>\n",
       "      <td>White</td>\n",
       "      <td>M</td>\n",
       "      <td>40</td>\n",
       "      <td>163</td>\n",
       "      <td>73</td>\n",
       "      <td>150</td>\n",
       "    </tr>\n",
       "  </tbody>\n",
       "</table>\n",
       "</div>"
      ],
      "text/plain": [
       "  Patient Name   Race Gender  Age  Weight (lb)  Height (inches)  \\\n",
       "0            A  White      M   36          153               70   \n",
       "1            B  Black      F   32          121               65   \n",
       "2            C  White      F   55          117               63   \n",
       "3            D  Black      F   23          115               69   \n",
       "4            E  White      M   40          163               73   \n",
       "\n",
       "   Blood Pressure  \n",
       "0             120  \n",
       "1             120  \n",
       "2             140  \n",
       "3             135  \n",
       "4             150  "
      ]
     },
     "execution_count": 11,
     "metadata": {},
     "output_type": "execute_result"
    }
   ],
   "source": [
    "df_cleaned.columns = ['Patient Name', 'Race', 'Gender', 'Age', 'Weight (lb)', 'Height (inches)', 'Blood Pressure']\n",
    "df_cleaned.head()"
   ]
  },
  {
   "cell_type": "code",
   "execution_count": 12,
   "id": "e9a31d4a-b9e5-4c52-878c-19542d83ce28",
   "metadata": {},
   "outputs": [
    {
     "name": "stdout",
     "output_type": "stream",
     "text": [
      "<class 'pandas.core.frame.DataFrame'>\n",
      "RangeIndex: 10 entries, 0 to 9\n",
      "Data columns (total 7 columns):\n",
      " #   Column           Non-Null Count  Dtype \n",
      "---  ------           --------------  ----- \n",
      " 0   Patient Name     10 non-null     object\n",
      " 1   Race             10 non-null     object\n",
      " 2   Gender           10 non-null     object\n",
      " 3   Age              10 non-null     int64 \n",
      " 4   Weight (lb)      10 non-null     int64 \n",
      " 5   Height (inches)  10 non-null     int64 \n",
      " 6   Blood Pressure   10 non-null     int64 \n",
      "dtypes: int64(4), object(3)\n",
      "memory usage: 692.0+ bytes\n"
     ]
    },
    {
     "data": {
      "text/html": [
       "<div>\n",
       "<style scoped>\n",
       "    .dataframe tbody tr th:only-of-type {\n",
       "        vertical-align: middle;\n",
       "    }\n",
       "\n",
       "    .dataframe tbody tr th {\n",
       "        vertical-align: top;\n",
       "    }\n",
       "\n",
       "    .dataframe thead th {\n",
       "        text-align: right;\n",
       "    }\n",
       "</style>\n",
       "<table border=\"1\" class=\"dataframe\">\n",
       "  <thead>\n",
       "    <tr style=\"text-align: right;\">\n",
       "      <th></th>\n",
       "      <th>Patient Name</th>\n",
       "      <th>Race</th>\n",
       "      <th>Gender</th>\n",
       "      <th>Age</th>\n",
       "      <th>Weight (lb)</th>\n",
       "      <th>Height (inches)</th>\n",
       "      <th>Blood Pressure</th>\n",
       "    </tr>\n",
       "  </thead>\n",
       "  <tbody>\n",
       "    <tr>\n",
       "      <th>0</th>\n",
       "      <td>A</td>\n",
       "      <td>White</td>\n",
       "      <td>M</td>\n",
       "      <td>36</td>\n",
       "      <td>153</td>\n",
       "      <td>70</td>\n",
       "      <td>120</td>\n",
       "    </tr>\n",
       "    <tr>\n",
       "      <th>1</th>\n",
       "      <td>B</td>\n",
       "      <td>Black</td>\n",
       "      <td>F</td>\n",
       "      <td>32</td>\n",
       "      <td>121</td>\n",
       "      <td>65</td>\n",
       "      <td>120</td>\n",
       "    </tr>\n",
       "    <tr>\n",
       "      <th>2</th>\n",
       "      <td>C</td>\n",
       "      <td>White</td>\n",
       "      <td>F</td>\n",
       "      <td>55</td>\n",
       "      <td>117</td>\n",
       "      <td>63</td>\n",
       "      <td>140</td>\n",
       "    </tr>\n",
       "    <tr>\n",
       "      <th>3</th>\n",
       "      <td>D</td>\n",
       "      <td>Black</td>\n",
       "      <td>F</td>\n",
       "      <td>23</td>\n",
       "      <td>115</td>\n",
       "      <td>69</td>\n",
       "      <td>135</td>\n",
       "    </tr>\n",
       "    <tr>\n",
       "      <th>4</th>\n",
       "      <td>E</td>\n",
       "      <td>White</td>\n",
       "      <td>M</td>\n",
       "      <td>40</td>\n",
       "      <td>163</td>\n",
       "      <td>73</td>\n",
       "      <td>150</td>\n",
       "    </tr>\n",
       "  </tbody>\n",
       "</table>\n",
       "</div>"
      ],
      "text/plain": [
       "  Patient Name   Race Gender  Age  Weight (lb)  Height (inches)  \\\n",
       "0            A  White      M   36          153               70   \n",
       "1            B  Black      F   32          121               65   \n",
       "2            C  White      F   55          117               63   \n",
       "3            D  Black      F   23          115               69   \n",
       "4            E  White      M   40          163               73   \n",
       "\n",
       "   Blood Pressure  \n",
       "0             120  \n",
       "1             120  \n",
       "2             140  \n",
       "3             135  \n",
       "4             150  "
      ]
     },
     "execution_count": 12,
     "metadata": {},
     "output_type": "execute_result"
    }
   ],
   "source": [
    "df_cleaned.info()\n",
    "df_cleaned.head()"
   ]
  },
  {
   "cell_type": "code",
   "execution_count": 13,
   "id": "f3b677d0-330a-4c94-a043-0eb9d2908131",
   "metadata": {},
   "outputs": [
    {
     "data": {
      "text/html": [
       "<div>\n",
       "<style scoped>\n",
       "    .dataframe tbody tr th:only-of-type {\n",
       "        vertical-align: middle;\n",
       "    }\n",
       "\n",
       "    .dataframe tbody tr th {\n",
       "        vertical-align: top;\n",
       "    }\n",
       "\n",
       "    .dataframe thead th {\n",
       "        text-align: right;\n",
       "    }\n",
       "</style>\n",
       "<table border=\"1\" class=\"dataframe\">\n",
       "  <thead>\n",
       "    <tr style=\"text-align: right;\">\n",
       "      <th></th>\n",
       "      <th>Patient Name</th>\n",
       "      <th>Race</th>\n",
       "      <th>Gender</th>\n",
       "      <th>Age</th>\n",
       "      <th>Weight (lb)</th>\n",
       "      <th>Height (inches)</th>\n",
       "      <th>Blood Pressure</th>\n",
       "    </tr>\n",
       "  </thead>\n",
       "  <tbody>\n",
       "    <tr>\n",
       "      <th>2</th>\n",
       "      <td>C</td>\n",
       "      <td>White</td>\n",
       "      <td>F</td>\n",
       "      <td>55</td>\n",
       "      <td>117</td>\n",
       "      <td>63</td>\n",
       "      <td>140</td>\n",
       "    </tr>\n",
       "  </tbody>\n",
       "</table>\n",
       "</div>"
      ],
      "text/plain": [
       "  Patient Name   Race Gender  Age  Weight (lb)  Height (inches)  \\\n",
       "2            C  White      F   55          117               63   \n",
       "\n",
       "   Blood Pressure  \n",
       "2             140  "
      ]
     },
     "execution_count": 13,
     "metadata": {},
     "output_type": "execute_result"
    }
   ],
   "source": [
    "# Filter the dataset for patients above the age of 50\n",
    "filtered_df = df[df['Age'] > 50]\n",
    "filtered_df"
   ]
  },
  {
   "cell_type": "code",
   "execution_count": 14,
   "id": "53f498a1-cc1a-4c7d-9a5c-8d33eb6aedf7",
   "metadata": {},
   "outputs": [
    {
     "name": "stdout",
     "output_type": "stream",
     "text": [
      "Total number of patients above age 50: 1\n"
     ]
    }
   ],
   "source": [
    "total_patients = filtered_df.shape[0]\n",
    "print(f'Total number of patients above age 50: {total_patients}')"
   ]
  },
  {
   "cell_type": "code",
   "execution_count": 15,
   "id": "f5f34ff3-71b4-4035-a729-5a1b7405a75e",
   "metadata": {},
   "outputs": [
    {
     "name": "stdout",
     "output_type": "stream",
     "text": [
      "Average Blood Pressure: 134.0\n",
      "Minimum Blood Pressure: 110\n",
      "Maximum Blood Pressure: 155\n"
     ]
    }
   ],
   "source": [
    "# Calculate average, minimum, and maximum blood pressure\n",
    "average_bp = df['Blood Pressure'].mean()\n",
    "min_bp = df['Blood Pressure'].min()\n",
    "max_bp = df['Blood Pressure'].max()\n",
    "\n",
    "print(f\"Average Blood Pressure: {average_bp}\")\n",
    "print(f\"Minimum Blood Pressure: {min_bp}\")\n",
    "print(f\"Maximum Blood Pressure: {max_bp}\")"
   ]
  },
  {
   "cell_type": "code",
   "execution_count": 16,
   "id": "3d453c81-b634-4b2c-8c1a-7c1cd3395983",
   "metadata": {},
   "outputs": [
    {
     "data": {
      "text/plain": [
       "Gender\n",
       "F    135.0\n",
       "M    133.0\n",
       "Name: Blood Pressure, dtype: float64"
      ]
     },
     "execution_count": 16,
     "metadata": {},
     "output_type": "execute_result"
    }
   ],
   "source": [
    "avg_bp_by_gender = df.groupby('Gender')['Blood Pressure'].mean()\n",
    "avg_bp_by_gender"
   ]
  },
  {
   "cell_type": "code",
   "execution_count": 36,
   "id": "393cac9e-ea18-438c-97b3-38d3ba246ea0",
   "metadata": {},
   "outputs": [
    {
     "name": "stdout",
     "output_type": "stream",
     "text": [
      "Requirement already satisfied: matplotlib in c:\\users\\user\\appdata\\local\\programs\\python\\python312\\lib\\site-packages (3.9.2)\n",
      "Requirement already satisfied: contourpy>=1.0.1 in c:\\users\\user\\appdata\\local\\programs\\python\\python312\\lib\\site-packages (from matplotlib) (1.3.0)\n",
      "Requirement already satisfied: cycler>=0.10 in c:\\users\\user\\appdata\\local\\programs\\python\\python312\\lib\\site-packages (from matplotlib) (0.12.1)\n",
      "Requirement already satisfied: fonttools>=4.22.0 in c:\\users\\user\\appdata\\local\\programs\\python\\python312\\lib\\site-packages (from matplotlib) (4.53.1)\n",
      "Requirement already satisfied: kiwisolver>=1.3.1 in c:\\users\\user\\appdata\\local\\programs\\python\\python312\\lib\\site-packages (from matplotlib) (1.4.7)\n",
      "Requirement already satisfied: numpy>=1.23 in c:\\users\\user\\appdata\\local\\programs\\python\\python312\\lib\\site-packages (from matplotlib) (2.1.1)\n",
      "Requirement already satisfied: packaging>=20.0 in c:\\users\\user\\appdata\\local\\programs\\python\\python312\\lib\\site-packages (from matplotlib) (24.1)\n",
      "Requirement already satisfied: pillow>=8 in c:\\users\\user\\appdata\\local\\programs\\python\\python312\\lib\\site-packages (from matplotlib) (10.4.0)\n",
      "Requirement already satisfied: pyparsing>=2.3.1 in c:\\users\\user\\appdata\\local\\programs\\python\\python312\\lib\\site-packages (from matplotlib) (3.1.4)\n",
      "Requirement already satisfied: python-dateutil>=2.7 in c:\\users\\user\\appdata\\local\\programs\\python\\python312\\lib\\site-packages (from matplotlib) (2.9.0.post0)\n",
      "Requirement already satisfied: six>=1.5 in c:\\users\\user\\appdata\\local\\programs\\python\\python312\\lib\\site-packages (from python-dateutil>=2.7->matplotlib) (1.16.0)\n"
     ]
    },
    {
     "name": "stderr",
     "output_type": "stream",
     "text": [
      "\n",
      "[notice] A new release of pip is available: 24.0 -> 24.2\n",
      "[notice] To update, run: python.exe -m pip install --upgrade pip\n"
     ]
    }
   ],
   "source": [
    "! pip install matplotlib"
   ]
  },
  {
   "cell_type": "code",
   "execution_count": 37,
   "id": "c8260d9c-b958-4c50-9f96-d8bc3ae944ff",
   "metadata": {},
   "outputs": [
    {
     "data": {
      "image/png": "[encoded data removed]",
      "text/plain": [
       "<Figure size 800x600 with 1 Axes>"
      ]
     },
     "metadata": {},
     "output_type": "display_data"
    }
   ],
   "source": [
    "plt.figure(figsize=(8, 6))\n",
    "plt.hist(df['Age'], bins=10, color='skyblue', edgecolor='black')\n",
    "plt.title('Distribution of Age', fontsize=15)\n",
    "plt.xlabel('Age', fontsize=12)\n",
    "plt.ylabel('Frequency', fontsize=12)\n",
    "plt.grid(True)\n",
    "\n",
    "plt.show()"
   ]
  },
  {
   "cell_type": "code",
   "execution_count": 38,
   "id": "72913e0c-8b6e-4a29-9de6-954894a40606",
   "metadata": {},
   "outputs": [
    {
     "name": "stdout",
     "output_type": "stream",
     "text": [
      "Requirement already satisfied: matplotlib in c:\\users\\user\\appdata\\local\\programs\\python\\python312\\lib\\site-packages (3.9.2)\n",
      "Requirement already satisfied: contourpy>=1.0.1 in c:\\users\\user\\appdata\\local\\programs\\python\\python312\\lib\\site-packages (from matplotlib) (1.3.0)\n",
      "Requirement already satisfied: cycler>=0.10 in c:\\users\\user\\appdata\\local\\programs\\python\\python312\\lib\\site-packages (from matplotlib) (0.12.1)\n",
      "Requirement already satisfied: fonttools>=4.22.0 in c:\\users\\user\\appdata\\local\\programs\\python\\python312\\lib\\site-packages (from matplotlib) (4.53.1)\n",
      "Requirement already satisfied: kiwisolver>=1.3.1 in c:\\users\\user\\appdata\\local\\programs\\python\\python312\\lib\\site-packages (from matplotlib) (1.4.7)\n",
      "Requirement already satisfied: numpy>=1.23 in c:\\users\\user\\appdata\\local\\programs\\python\\python312\\lib\\site-packages (from matplotlib) (2.1.1)\n",
      "Requirement already satisfied: packaging>=20.0 in c:\\users\\user\\appdata\\local\\programs\\python\\python312\\lib\\site-packages (from matplotlib) (24.1)\n",
      "Requirement already satisfied: pillow>=8 in c:\\users\\user\\appdata\\local\\programs\\python\\python312\\lib\\site-packages (from matplotlib) (10.4.0)\n",
      "Requirement already satisfied: pyparsing>=2.3.1 in c:\\users\\user\\appdata\\local\\programs\\python\\python312\\lib\\site-packages (from matplotlib) (3.1.4)\n",
      "Requirement already satisfied: python-dateutil>=2.7 in c:\\users\\user\\appdata\\local\\programs\\python\\python312\\lib\\site-packages (from matplotlib) (2.9.0.post0)\n",
      "Requirement already satisfied: six>=1.5 in c:\\users\\user\\appdata\\local\\programs\\python\\python312\\lib\\site-packages (from python-dateutil>=2.7->matplotlib) (1.16.0)\n"
     ]
    },
    {
     "name": "stderr",
     "output_type": "stream",
     "text": [
      "\n",
      "[notice] A new release of pip is available: 24.0 -> 24.2\n",
      "[notice] To update, run: python.exe -m pip install --upgrade pip\n"
     ]
    }
   ],
   "source": [
    "! pip install matplotlib"
   ]
  },
  {
   "cell_type": "code",
   "execution_count": 40,
   "id": "03d28df3-ff9a-46cc-88ff-bd77ff7d9c50",
   "metadata": {},
   "outputs": [
    {
     "name": "stdout",
     "output_type": "stream",
     "text": [
      "Collecting seaborn\n",
      "  Downloading seaborn-0.13.2-py3-none-any.whl.metadata (5.4 kB)\n",
      "Requirement already satisfied: numpy!=1.24.0,>=1.20 in c:\\users\\user\\appdata\\local\\programs\\python\\python312\\lib\\site-packages (from seaborn) (2.1.1)\n",
      "Requirement already satisfied: pandas>=1.2 in c:\\users\\user\\appdata\\local\\programs\\python\\python312\\lib\\site-packages (from seaborn) (2.2.2)\n",
      "Requirement already satisfied: matplotlib!=3.6.1,>=3.4 in c:\\users\\user\\appdata\\local\\programs\\python\\python312\\lib\\site-packages (from seaborn) (3.9.2)\n",
      "Requirement already satisfied: contourpy>=1.0.1 in c:\\users\\user\\appdata\\local\\programs\\python\\python312\\lib\\site-packages (from matplotlib!=3.6.1,>=3.4->seaborn) (1.3.0)\n",
      "Requirement already satisfied: cycler>=0.10 in c:\\users\\user\\appdata\\local\\programs\\python\\python312\\lib\\site-packages (from matplotlib!=3.6.1,>=3.4->seaborn) (0.12.1)\n",
      "Requirement already satisfied: fonttools>=4.22.0 in c:\\users\\user\\appdata\\local\\programs\\python\\python312\\lib\\site-packages (from matplotlib!=3.6.1,>=3.4->seaborn) (4.53.1)\n",
      "Requirement already satisfied: kiwisolver>=1.3.1 in c:\\users\\user\\appdata\\local\\programs\\python\\python312\\lib\\site-packages (from matplotlib!=3.6.1,>=3.4->seaborn) (1.4.7)\n",
      "Requirement already satisfied: packaging>=20.0 in c:\\users\\user\\appdata\\local\\programs\\python\\python312\\lib\\site-packages (from matplotlib!=3.6.1,>=3.4->seaborn) (24.1)\n",
      "Requirement already satisfied: pillow>=8 in c:\\users\\user\\appdata\\local\\programs\\python\\python312\\lib\\site-packages (from matplotlib!=3.6.1,>=3.4->seaborn) (10.4.0)\n",
      "Requirement already satisfied: pyparsing>=2.3.1 in c:\\users\\user\\appdata\\local\\programs\\python\\python312\\lib\\site-packages (from matplotlib!=3.6.1,>=3.4->seaborn) (3.1.4)\n",
      "Requirement already satisfied: python-dateutil>=2.7 in c:\\users\\user\\appdata\\local\\programs\\python\\python312\\lib\\site-packages (from matplotlib!=3.6.1,>=3.4->seaborn) (2.9.0.post0)\n",
      "Requirement already satisfied: pytz>=2020.1 in c:\\users\\user\\appdata\\local\\programs\\python\\python312\\lib\\site-packages (from pandas>=1.2->seaborn) (2024.2)\n",
      "Requirement already satisfied: tzdata>=2022.7 in c:\\users\\user\\appdata\\local\\programs\\python\\python312\\lib\\site-packages (from pandas>=1.2->seaborn) (2024.1)\n",
      "Requirement already satisfied: six>=1.5 in c:\\users\\user\\appdata\\local\\programs\\python\\python312\\lib\\site-packages (from python-dateutil>=2.7->matplotlib!=3.6.1,>=3.4->seaborn) (1.16.0)\n",
      "Downloading seaborn-0.13.2-py3-none-any.whl (294 kB)\n",
      "   ---------------------------------------- 0.0/294.9 kB ? eta -:--:--\n",
      "   ---------------------------------------- 0.0/294.9 kB ? eta -:--:--\n",
      "   - -------------------------------------- 10.2/294.9 kB ? eta -:--:--\n",
      "   ---- ---------------------------------- 30.7/294.9 kB 660.6 kB/s eta 0:00:01\n",
      "   ---- ---------------------------------- 30.7/294.9 kB 660.6 kB/s eta 0:00:01\n",
      "   -------- ------------------------------ 61.4/294.9 kB 409.6 kB/s eta 0:00:01\n",
      "   -------- ------------------------------ 61.4/294.9 kB 409.6 kB/s eta 0:00:01\n",
      "   ---------- ---------------------------- 81.9/294.9 kB 327.3 kB/s eta 0:00:01\n",
      "   ---------- ---------------------------- 81.9/294.9 kB 327.3 kB/s eta 0:00:01\n",
      "   ---------- ---------------------------- 81.9/294.9 kB 327.3 kB/s eta 0:00:01\n",
      "   ------------ -------------------------- 92.2/294.9 kB 218.5 kB/s eta 0:00:01\n",
      "   ------------ -------------------------- 92.2/294.9 kB 218.5 kB/s eta 0:00:01\n",
      "   ------------ -------------------------- 92.2/294.9 kB 218.5 kB/s eta 0:00:01\n",
      "   -------------- ----------------------- 112.6/294.9 kB 218.3 kB/s eta 0:00:01\n",
      "   -------------- ----------------------- 112.6/294.9 kB 218.3 kB/s eta 0:00:01\n",
      "   -------------- ----------------------- 112.6/294.9 kB 218.3 kB/s eta 0:00:01\n",
      "   --------------- ---------------------- 122.9/294.9 kB 185.0 kB/s eta 0:00:01\n",
      "   --------------- ---------------------- 122.9/294.9 kB 185.0 kB/s eta 0:00:01\n",
      "   ------------------ ------------------- 143.4/294.9 kB 189.4 kB/s eta 0:00:01\n",
      "   ------------------ ------------------- 143.4/294.9 kB 189.4 kB/s eta 0:00:01\n",
      "   ------------------ ------------------- 143.4/294.9 kB 189.4 kB/s eta 0:00:01\n",
      "   ------------------ ------------------- 143.4/294.9 kB 189.4 kB/s eta 0:00:01\n",
      "   --------------------- ---------------- 163.8/294.9 kB 175.5 kB/s eta 0:00:01\n",
      "   --------------------- ---------------- 163.8/294.9 kB 175.5 kB/s eta 0:00:01\n",
      "   --------------------- ---------------- 163.8/294.9 kB 175.5 kB/s eta 0:00:01\n",
      "   --------------------- ---------------- 163.8/294.9 kB 175.5 kB/s eta 0:00:01\n",
      "   --------------------- ---------------- 163.8/294.9 kB 175.5 kB/s eta 0:00:01\n",
      "   ---------------------- --------------- 174.1/294.9 kB 145.6 kB/s eta 0:00:01\n",
      "   ---------------------- --------------- 174.1/294.9 kB 145.6 kB/s eta 0:00:01\n",
      "   ---------------------- --------------- 174.1/294.9 kB 145.6 kB/s eta 0:00:01\n",
      "   ---------------------- --------------- 174.1/294.9 kB 145.6 kB/s eta 0:00:01\n",
      "   ---------------------- --------------- 174.1/294.9 kB 145.6 kB/s eta 0:00:01\n",
      "   ---------------------- --------------- 174.1/294.9 kB 145.6 kB/s eta 0:00:01\n",
      "   ------------------------- ------------ 194.6/294.9 kB 131.1 kB/s eta 0:00:01\n",
      "   ------------------------- ------------ 194.6/294.9 kB 131.1 kB/s eta 0:00:01\n",
      "   ------------------------- ------------ 194.6/294.9 kB 131.1 kB/s eta 0:00:01\n",
      "   ------------------------- ------------ 194.6/294.9 kB 131.1 kB/s eta 0:00:01\n",
      "   ------------------------- ------------ 194.6/294.9 kB 131.1 kB/s eta 0:00:01\n",
      "   -------------------------- ----------- 204.8/294.9 kB 123.3 kB/s eta 0:00:01\n",
      "   -------------------------- ----------- 204.8/294.9 kB 123.3 kB/s eta 0:00:01\n",
      "   ----------------------------- -------- 225.3/294.9 kB 127.4 kB/s eta 0:00:01\n",
      "   ----------------------------- -------- 225.3/294.9 kB 127.4 kB/s eta 0:00:01\n",
      "   ----------------------------- -------- 225.3/294.9 kB 127.4 kB/s eta 0:00:01\n",
      "   ----------------------------- -------- 225.3/294.9 kB 127.4 kB/s eta 0:00:01\n",
      "   ------------------------------- ------ 245.8/294.9 kB 124.5 kB/s eta 0:00:01\n",
      "   ------------------------------- ------ 245.8/294.9 kB 124.5 kB/s eta 0:00:01\n",
      "   ------------------------------- ------ 245.8/294.9 kB 124.5 kB/s eta 0:00:01\n",
      "   ------------------------------- ------ 245.8/294.9 kB 124.5 kB/s eta 0:00:01\n",
      "   ------------------------------- ------ 245.8/294.9 kB 124.5 kB/s eta 0:00:01\n",
      "   ---------------------------------- --- 266.2/294.9 kB 122.3 kB/s eta 0:00:01\n",
      "   ---------------------------------- --- 266.2/294.9 kB 122.3 kB/s eta 0:00:01\n",
      "   ------------------------------------ - 286.7/294.9 kB 125.5 kB/s eta 0:00:01\n",
      "   ------------------------------------ - 286.7/294.9 kB 125.5 kB/s eta 0:00:01\n",
      "   ------------------------------------ - 286.7/294.9 kB 125.5 kB/s eta 0:00:01\n",
      "   -------------------------------------- 294.9/294.9 kB 123.1 kB/s eta 0:00:00\n",
      "Installing collected packages: seaborn\n",
      "Successfully installed seaborn-0.13.2\n"
     ]
    },
    {
     "name": "stderr",
     "output_type": "stream",
     "text": [
      "\n",
      "[notice] A new release of pip is available: 24.0 -> 24.2\n",
      "[notice] To update, run: python.exe -m pip install --upgrade pip\n"
     ]
    }
   ],
   "source": [
    "! pip install seaborn"
   ]
  },
  {
   "cell_type": "code",
   "execution_count": 43,
   "id": "b96784a3-0118-4a6b-a7cb-9716f8ddc964",
   "metadata": {},
   "outputs": [
    {
     "name": "stdout",
     "output_type": "stream",
     "text": [
      "Requirement already satisfied: seaborn in c:\\users\\user\\appdata\\local\\programs\\python\\python312\\lib\\site-packages (0.13.2)\n",
      "Requirement already satisfied: matplotlib in c:\\users\\user\\appdata\\local\\programs\\python\\python312\\lib\\site-packages (3.9.2)\n",
      "Requirement already satisfied: numpy!=1.24.0,>=1.20 in c:\\users\\user\\appdata\\local\\programs\\python\\python312\\lib\\site-packages (from seaborn) (2.1.1)\n",
      "Requirement already satisfied: pandas>=1.2 in c:\\users\\user\\appdata\\local\\programs\\python\\python312\\lib\\site-packages (from seaborn) (2.2.2)\n",
      "Requirement already satisfied: contourpy>=1.0.1 in c:\\users\\user\\appdata\\local\\programs\\python\\python312\\lib\\site-packages (from matplotlib) (1.3.0)\n",
      "Requirement already satisfied: cycler>=0.10 in c:\\users\\user\\appdata\\local\\programs\\python\\python312\\lib\\site-packages (from matplotlib) (0.12.1)\n",
      "Requirement already satisfied: fonttools>=4.22.0 in c:\\users\\user\\appdata\\local\\programs\\python\\python312\\lib\\site-packages (from matplotlib) (4.53.1)\n",
      "Requirement already satisfied: kiwisolver>=1.3.1 in c:\\users\\user\\appdata\\local\\programs\\python\\python312\\lib\\site-packages (from matplotlib) (1.4.7)\n",
      "Requirement already satisfied: packaging>=20.0 in c:\\users\\user\\appdata\\local\\programs\\python\\python312\\lib\\site-packages (from matplotlib) (24.1)\n",
      "Requirement already satisfied: pillow>=8 in c:\\users\\user\\appdata\\local\\programs\\python\\python312\\lib\\site-packages (from matplotlib) (10.4.0)\n",
      "Requirement already satisfied: pyparsing>=2.3.1 in c:\\users\\user\\appdata\\local\\programs\\python\\python312\\lib\\site-packages (from matplotlib) (3.1.4)\n",
      "Requirement already satisfied: python-dateutil>=2.7 in c:\\users\\user\\appdata\\local\\programs\\python\\python312\\lib\\site-packages (from matplotlib) (2.9.0.post0)\n",
      "Requirement already satisfied: pytz>=2020.1 in c:\\users\\user\\appdata\\local\\programs\\python\\python312\\lib\\site-packages (from pandas>=1.2->seaborn) (2024.2)\n",
      "Requirement already satisfied: tzdata>=2022.7 in c:\\users\\user\\appdata\\local\\programs\\python\\python312\\lib\\site-packages (from pandas>=1.2->seaborn) (2024.1)\n",
      "Requirement already satisfied: six>=1.5 in c:\\users\\user\\appdata\\local\\programs\\python\\python312\\lib\\site-packages (from python-dateutil>=2.7->matplotlib) (1.16.0)\n"
     ]
    },
    {
     "name": "stderr",
     "output_type": "stream",
     "text": [
      "\n",
      "[notice] A new release of pip is available: 24.0 -> 24.2\n",
      "[notice] To update, run: python.exe -m pip install --upgrade pip\n"
     ]
    }
   ],
   "source": [
    "!pip install seaborn matplotlib"
   ]
  },
  {
   "cell_type": "code",
   "execution_count": 48,
   "id": "b03fd3b0-81c8-4cad-a66d-b8a960ebf75b",
   "metadata": {},
   "outputs": [],
   "source": [
    "import seaborn as sns\n",
    "import matplotlib.pyplot as plt"
   ]
  },
  {
   "cell_type": "code",
   "execution_count": 51,
   "id": "0ea4f673-5b01-47c7-8220-471a6e5f9030",
   "metadata": {},
   "outputs": [
    {
     "name": "stderr",
     "output_type": "stream",
     "text": [
      "C:\\Users\\User\\AppData\\Local\\Temp\\ipykernel_9400\\302137966.py:2: FutureWarning: \n",
      "\n",
      "Passing `palette` without assigning `hue` is deprecated and will be removed in v0.14.0. Assign the `x` variable to `hue` and set `legend=False` for the same effect.\n",
      "\n",
      "  sns.boxplot(x='Gender', y='Blood Pressure', data=df, palette='Set2')\n"
     ]
    },
    {
     "data": {
      "image/png": "[encoded data removed]",
      "text/plain": [
       "<Figure size 800x600 with 1 Axes>"
      ]
     },
     "metadata": {},
     "output_type": "display_data"
    }
   ],
   "source": [
    "plt.figure(figsize=(8, 6))\n",
    "sns.boxplot(x='Gender', y='Blood Pressure', data=df, palette='Set2')\n",
    "\n",
    "plt.title('Blood Pressure Distribution by Gender', fontsize=15)\n",
    "plt.xlabel('Gender', fontsize=12)\n",
    "plt.ylabel('Blood Pressure', fontsize=12)\n",
    "\n",
    "plt.show()"
   ]
  },
  {
   "cell_type": "code",
   "execution_count": 52,
   "id": "ddd9ad3a-2b7f-4e1f-bcb3-a4ce6475c1a9",
   "metadata": {},
   "outputs": [
    {
     "data": {
      "text/html": [
       "<div>\n",
       "<style scoped>\n",
       "    .dataframe tbody tr th:only-of-type {\n",
       "        vertical-align: middle;\n",
       "    }\n",
       "\n",
       "    .dataframe tbody tr th {\n",
       "        vertical-align: top;\n",
       "    }\n",
       "\n",
       "    .dataframe thead th {\n",
       "        text-align: right;\n",
       "    }\n",
       "</style>\n",
       "<table border=\"1\" class=\"dataframe\">\n",
       "  <thead>\n",
       "    <tr style=\"text-align: right;\">\n",
       "      <th></th>\n",
       "      <th>Patient Name</th>\n",
       "      <th>Blood Pressure</th>\n",
       "    </tr>\n",
       "  </thead>\n",
       "  <tbody>\n",
       "    <tr>\n",
       "      <th>7</th>\n",
       "      <td>H</td>\n",
       "      <td>155</td>\n",
       "    </tr>\n",
       "    <tr>\n",
       "      <th>4</th>\n",
       "      <td>E</td>\n",
       "      <td>150</td>\n",
       "    </tr>\n",
       "    <tr>\n",
       "      <th>9</th>\n",
       "      <td>J</td>\n",
       "      <td>140</td>\n",
       "    </tr>\n",
       "    <tr>\n",
       "      <th>2</th>\n",
       "      <td>C</td>\n",
       "      <td>140</td>\n",
       "    </tr>\n",
       "    <tr>\n",
       "      <th>6</th>\n",
       "      <td>G</td>\n",
       "      <td>140</td>\n",
       "    </tr>\n",
       "  </tbody>\n",
       "</table>\n",
       "</div>"
      ],
      "text/plain": [
       "  Patient Name  Blood Pressure\n",
       "7            H             155\n",
       "4            E             150\n",
       "9            J             140\n",
       "2            C             140\n",
       "6            G             140"
      ]
     },
     "execution_count": 52,
     "metadata": {},
     "output_type": "execute_result"
    }
   ],
   "source": [
    "# Sort the data by 'Blood Pressure' in descending order and select the top 5\n",
    "top_5_bp_patients = df.sort_values(by='Blood Pressure', ascending=False).head(5)\n",
    "\n",
    "top_5_bp_patients[['Patient Name', 'Blood Pressure']]"
   ]
  },
  {
   "cell_type": "code",
   "execution_count": 53,
   "id": "169cc97c-e545-4d7e-b820-837c5a40c21e",
   "metadata": {},
   "outputs": [
    {
     "name": "stdout",
     "output_type": "stream",
     "text": [
      "Top 5 patients with the highest Blood Pressure have been saved to 'high_blood_pressure_patients.csv'.\n"
     ]
    }
   ],
   "source": [
    "top_5_bp_patients.to_csv('high_blood_pressure_patients.csv', index=False)\n",
    "\n",
    "print(\"Top 5 patients with the highest Blood Pressure have been saved to 'high_blood_pressure_patients.csv'.\")"
   ]
  },
  {
   "cell_type": "code",
   "execution_count": null,
   "id": "672fce7f-33bf-44ff-a51a-a9b63b0bc507",
   "metadata": {},
   "outputs": [],
   "source": []
  }
 ],
 "metadata": {
  "kernelspec": {
   "display_name": "Python 3 (ipykernel)",
   "language": "python",
   "name": "python3"
  },
  "language_info": {
   "codemirror_mode": {
    "name": "ipython",
    "version": 3
   },
   "file_extension": ".py",
   "mimetype": "text/x-python",
   "name": "python",
   "nbconvert_exporter": "python",
   "pygments_lexer": "ipython3",
   "version": "3.12.3"
  }
 },
 "nbformat": 4,
 "nbformat_minor": 5
}
